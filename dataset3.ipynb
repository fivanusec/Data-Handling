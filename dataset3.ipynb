{
 "cells": [
  {
   "cell_type": "code",
   "execution_count": 13,
   "metadata": {},
   "outputs": [],
   "source": [
    "import psycopg2\n",
    "import matplotlib.pyplot as plt \n",
    "import json\n",
    "\n",
    "# database handling\n",
    "conn = psycopg2.connect(\"dbname=datasets_fun user=postgres password=postgres\")"
   ]
  },
  {
   "cell_type": "code",
   "execution_count": 14,
   "metadata": {},
   "outputs": [
    {
     "ename": "UndefinedColumn",
     "evalue": "column d.Datum does not exist\nLINE 1: SELECT d.\"Datum\", d.\"Iznos\" from mytable d order by d.\"Glava...\n               ^\n",
     "output_type": "error",
     "traceback": [
      "\u001b[0;31m---------------------------------------------------------------------------\u001b[0m",
      "\u001b[0;31mUndefinedColumn\u001b[0m                           Traceback (most recent call last)",
      "\u001b[1;32m/Users/filipivanusec/datasets_fun/dataset3.ipynb Cell 2\u001b[0m in \u001b[0;36m<cell line: 2>\u001b[0;34m()\u001b[0m\n\u001b[1;32m      <a href='vscode-notebook-cell:/Users/filipivanusec/datasets_fun/dataset3.ipynb#W1sZmlsZQ%3D%3D?line=0'>1</a>\u001b[0m cur \u001b[39m=\u001b[39m conn\u001b[39m.\u001b[39mcursor()\n\u001b[0;32m----> <a href='vscode-notebook-cell:/Users/filipivanusec/datasets_fun/dataset3.ipynb#W1sZmlsZQ%3D%3D?line=1'>2</a>\u001b[0m cur\u001b[39m.\u001b[39;49mexecute(\u001b[39m'\u001b[39;49m\u001b[39mSELECT d.\u001b[39;49m\u001b[39m\"\u001b[39;49m\u001b[39mDatum\u001b[39;49m\u001b[39m\"\u001b[39;49m\u001b[39m, d.\u001b[39;49m\u001b[39m\"\u001b[39;49m\u001b[39mIznos\u001b[39;49m\u001b[39m\"\u001b[39;49m\u001b[39m from mytable d order by d.\u001b[39;49m\u001b[39m\"\u001b[39;49m\u001b[39mGlava\u001b[39;49m\u001b[39m\"\u001b[39;49m\u001b[39m desc\u001b[39;49m\u001b[39m'\u001b[39;49m)\n\u001b[1;32m      <a href='vscode-notebook-cell:/Users/filipivanusec/datasets_fun/dataset3.ipynb#W1sZmlsZQ%3D%3D?line=2'>3</a>\u001b[0m data \u001b[39m=\u001b[39m cur\u001b[39m.\u001b[39mfetchall()\n\u001b[1;32m      <a href='vscode-notebook-cell:/Users/filipivanusec/datasets_fun/dataset3.ipynb#W1sZmlsZQ%3D%3D?line=3'>4</a>\u001b[0m data_json \u001b[39m=\u001b[39m \u001b[39mdict\u001b[39m(data)\n",
      "\u001b[0;31mUndefinedColumn\u001b[0m: column d.Datum does not exist\nLINE 1: SELECT d.\"Datum\", d.\"Iznos\" from mytable d order by d.\"Glava...\n               ^\n"
     ]
    }
   ],
   "source": [
    "cur = conn.cursor()\n",
    "cur.execute('SELECT d.\"Datum\", d.\"Iznos\" from mytable d order by d.\"Glava\" desc')\n",
    "data = cur.fetchall()\n",
    "data_json = dict(data)\n",
    "fig, ax = plt.subplots(figsize=(20,20))\n",
    "print(data_json)\n",
    "ax.bar(data_json.keys(),data_json.values(),width=1, edgecolor=\"white\", linewidth=10)\n",
    "plt.show()"
   ]
  }
 ],
 "metadata": {
  "kernelspec": {
   "display_name": "Python 3.10.6 ('datasets_fun-ur3kh_yt')",
   "language": "python",
   "name": "python3"
  },
  "language_info": {
   "codemirror_mode": {
    "name": "ipython",
    "version": 3
   },
   "file_extension": ".py",
   "mimetype": "text/x-python",
   "name": "python",
   "nbconvert_exporter": "python",
   "pygments_lexer": "ipython3",
   "version": "3.10.6"
  },
  "orig_nbformat": 4,
  "vscode": {
   "interpreter": {
    "hash": "2d9b8fea1e8c54bbbd9141f4de393684d411c4e8aaba95d5ac9817f85f973c2a"
   }
  }
 },
 "nbformat": 4,
 "nbformat_minor": 2
}
